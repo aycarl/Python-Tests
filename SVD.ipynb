{
  "nbformat": 4,
  "nbformat_minor": 0,
  "metadata": {
    "colab": {
      "name": "SVD",
      "version": "0.3.2",
      "provenance": [],
      "collapsed_sections": [],
      "toc_visible": true,
      "include_colab_link": true
    },
    "kernelspec": {
      "name": "python3",
      "display_name": "Python 3"
    }
  },
  "cells": [
    {
      "cell_type": "markdown",
      "metadata": {
        "id": "view-in-github",
        "colab_type": "text"
      },
      "source": [
        "<a href=\"https://colab.research.google.com/github/aycarl/Python-Tests/blob/master/SVD.ipynb\" target=\"_parent\"><img src=\"https://colab.research.google.com/assets/colab-badge.svg\" alt=\"Open In Colab\"/></a>"
      ]
    },
    {
      "metadata": {
        "id": "6ljBHHsGvsu8",
        "colab_type": "text"
      },
      "cell_type": "markdown",
      "source": [
        "#Calculating Singular Value Decomposition in Python\n",
        "\n",
        "\n",
        "---\n",
        "\n",
        "\n",
        "1. Import numpy"
      ]
    },
    {
      "metadata": {
        "id": "3qotZFH9vflP",
        "colab_type": "code",
        "colab": {}
      },
      "cell_type": "code",
      "source": [
        "import numpy as np\n"
      ],
      "execution_count": 0,
      "outputs": []
    },
    {
      "metadata": {
        "id": "6NJw8sGU0A8L",
        "colab_type": "text"
      },
      "cell_type": "markdown",
      "source": [
        "2. upload data file from  local drive\n",
        "\n",
        "3. save imported data into variable (in this case \"realestate\")"
      ]
    },
    {
      "metadata": {
        "id": "NzfF7YR61FDB",
        "colab_type": "code",
        "outputId": "3f6ecbf5-2264-43d2-e171-9bafbbc504ed",
        "colab": {
          "resources": {
            "http://localhost:8080/nbextensions/google.colab/files.js": {
              "data": "Ly8gQ29weXJpZ2h0IDIwMTcgR29vZ2xlIExMQwovLwovLyBMaWNlbnNlZCB1bmRlciB0aGUgQXBhY2hlIExpY2Vuc2UsIFZlcnNpb24gMi4wICh0aGUgIkxpY2Vuc2UiKTsKLy8geW91IG1heSBub3QgdXNlIHRoaXMgZmlsZSBleGNlcHQgaW4gY29tcGxpYW5jZSB3aXRoIHRoZSBMaWNlbnNlLgovLyBZb3UgbWF5IG9idGFpbiBhIGNvcHkgb2YgdGhlIExpY2Vuc2UgYXQKLy8KLy8gICAgICBodHRwOi8vd3d3LmFwYWNoZS5vcmcvbGljZW5zZXMvTElDRU5TRS0yLjAKLy8KLy8gVW5sZXNzIHJlcXVpcmVkIGJ5IGFwcGxpY2FibGUgbGF3IG9yIGFncmVlZCB0byBpbiB3cml0aW5nLCBzb2Z0d2FyZQovLyBkaXN0cmlidXRlZCB1bmRlciB0aGUgTGljZW5zZSBpcyBkaXN0cmlidXRlZCBvbiBhbiAiQVMgSVMiIEJBU0lTLAovLyBXSVRIT1VUIFdBUlJBTlRJRVMgT1IgQ09ORElUSU9OUyBPRiBBTlkgS0lORCwgZWl0aGVyIGV4cHJlc3Mgb3IgaW1wbGllZC4KLy8gU2VlIHRoZSBMaWNlbnNlIGZvciB0aGUgc3BlY2lmaWMgbGFuZ3VhZ2UgZ292ZXJuaW5nIHBlcm1pc3Npb25zIGFuZAovLyBsaW1pdGF0aW9ucyB1bmRlciB0aGUgTGljZW5zZS4KCi8qKgogKiBAZmlsZW92ZXJ2aWV3IEhlbHBlcnMgZm9yIGdvb2dsZS5jb2xhYiBQeXRob24gbW9kdWxlLgogKi8KKGZ1bmN0aW9uKHNjb3BlKSB7CmZ1bmN0aW9uIHNwYW4odGV4dCwgc3R5bGVBdHRyaWJ1dGVzID0ge30pIHsKICBjb25zdCBlbGVtZW50ID0gZG9jdW1lbnQuY3JlYXRlRWxlbWVudCgnc3BhbicpOwogIGVsZW1lbnQudGV4dENvbnRlbnQgPSB0ZXh0OwogIGZvciAoY29uc3Qga2V5IG9mIE9iamVjdC5rZXlzKHN0eWxlQXR0cmlidXRlcykpIHsKICAgIGVsZW1lbnQuc3R5bGVba2V5XSA9IHN0eWxlQXR0cmlidXRlc1trZXldOwogIH0KICByZXR1cm4gZWxlbWVudDsKfQoKLy8gTWF4IG51bWJlciBvZiBieXRlcyB3aGljaCB3aWxsIGJlIHVwbG9hZGVkIGF0IGEgdGltZS4KY29uc3QgTUFYX1BBWUxPQURfU0laRSA9IDEwMCAqIDEwMjQ7Ci8vIE1heCBhbW91bnQgb2YgdGltZSB0byBibG9jayB3YWl0aW5nIGZvciB0aGUgdXNlci4KY29uc3QgRklMRV9DSEFOR0VfVElNRU9VVF9NUyA9IDMwICogMTAwMDsKCmZ1bmN0aW9uIF91cGxvYWRGaWxlcyhpbnB1dElkLCBvdXRwdXRJZCkgewogIGNvbnN0IHN0ZXBzID0gdXBsb2FkRmlsZXNTdGVwKGlucHV0SWQsIG91dHB1dElkKTsKICBjb25zdCBvdXRwdXRFbGVtZW50ID0gZG9jdW1lbnQuZ2V0RWxlbWVudEJ5SWQob3V0cHV0SWQpOwogIC8vIENhY2hlIHN0ZXBzIG9uIHRoZSBvdXRwdXRFbGVtZW50IHRvIG1ha2UgaXQgYXZhaWxhYmxlIGZvciB0aGUgbmV4dCBjYWxsCiAgLy8gdG8gdXBsb2FkRmlsZXNDb250aW51ZSBmcm9tIFB5dGhvbi4KICBvdXRwdXRFbGVtZW50LnN0ZXBzID0gc3RlcHM7CgogIHJldHVybiBfdXBsb2FkRmlsZXNDb250aW51ZShvdXRwdXRJZCk7Cn0KCi8vIFRoaXMgaXMgcm91Z2hseSBhbiBhc3luYyBnZW5lcmF0b3IgKG5vdCBzdXBwb3J0ZWQgaW4gdGhlIGJyb3dzZXIgeWV0KSwKLy8gd2hlcmUgdGhlcmUgYXJlIG11bHRpcGxlIGFzeW5jaHJvbm91cyBzdGVwcyBhbmQgdGhlIFB5dGhvbiBzaWRlIGlzIGdvaW5nCi8vIHRvIHBvbGwgZm9yIGNvbXBsZXRpb24gb2YgZWFjaCBzdGVwLgovLyBUaGlzIHVzZXMgYSBQcm9taXNlIHRvIGJsb2NrIHRoZSBweXRob24gc2lkZSBvbiBjb21wbGV0aW9uIG9mIGVhY2ggc3RlcCwKLy8gdGhlbiBwYXNzZXMgdGhlIHJlc3VsdCBvZiB0aGUgcHJldmlvdXMgc3RlcCBhcyB0aGUgaW5wdXQgdG8gdGhlIG5leHQgc3RlcC4KZnVuY3Rpb24gX3VwbG9hZEZpbGVzQ29udGludWUob3V0cHV0SWQpIHsKICBjb25zdCBvdXRwdXRFbGVtZW50ID0gZG9jdW1lbnQuZ2V0RWxlbWVudEJ5SWQob3V0cHV0SWQpOwogIGNvbnN0IHN0ZXBzID0gb3V0cHV0RWxlbWVudC5zdGVwczsKCiAgY29uc3QgbmV4dCA9IHN0ZXBzLm5leHQob3V0cHV0RWxlbWVudC5sYXN0UHJvbWlzZVZhbHVlKTsKICByZXR1cm4gUHJvbWlzZS5yZXNvbHZlKG5leHQudmFsdWUucHJvbWlzZSkudGhlbigodmFsdWUpID0+IHsKICAgIC8vIENhY2hlIHRoZSBsYXN0IHByb21pc2UgdmFsdWUgdG8gbWFrZSBpdCBhdmFpbGFibGUgdG8gdGhlIG5leHQKICAgIC8vIHN0ZXAgb2YgdGhlIGdlbmVyYXRvci4KICAgIG91dHB1dEVsZW1lbnQubGFzdFByb21pc2VWYWx1ZSA9IHZhbHVlOwogICAgcmV0dXJuIG5leHQudmFsdWUucmVzcG9uc2U7CiAgfSk7Cn0KCi8qKgogKiBHZW5lcmF0b3IgZnVuY3Rpb24gd2hpY2ggaXMgY2FsbGVkIGJldHdlZW4gZWFjaCBhc3luYyBzdGVwIG9mIHRoZSB1cGxvYWQKICogcHJvY2Vzcy4KICogQHBhcmFtIHtzdHJpbmd9IGlucHV0SWQgRWxlbWVudCBJRCBvZiB0aGUgaW5wdXQgZmlsZSBwaWNrZXIgZWxlbWVudC4KICogQHBhcmFtIHtzdHJpbmd9IG91dHB1dElkIEVsZW1lbnQgSUQgb2YgdGhlIG91dHB1dCBkaXNwbGF5LgogKiBAcmV0dXJuIHshSXRlcmFibGU8IU9iamVjdD59IEl0ZXJhYmxlIG9mIG5leHQgc3RlcHMuCiAqLwpmdW5jdGlvbiogdXBsb2FkRmlsZXNTdGVwKGlucHV0SWQsIG91dHB1dElkKSB7CiAgY29uc3QgaW5wdXRFbGVtZW50ID0gZG9jdW1lbnQuZ2V0RWxlbWVudEJ5SWQoaW5wdXRJZCk7CiAgaW5wdXRFbGVtZW50LmRpc2FibGVkID0gZmFsc2U7CgogIGNvbnN0IG91dHB1dEVsZW1lbnQgPSBkb2N1bWVudC5nZXRFbGVtZW50QnlJZChvdXRwdXRJZCk7CiAgb3V0cHV0RWxlbWVudC5pbm5lckhUTUwgPSAnJzsKCiAgY29uc3QgcGlja2VkUHJvbWlzZSA9IG5ldyBQcm9taXNlKChyZXNvbHZlKSA9PiB7CiAgICBpbnB1dEVsZW1lbnQuYWRkRXZlbnRMaXN0ZW5lcignY2hhbmdlJywgKGUpID0+IHsKICAgICAgcmVzb2x2ZShlLnRhcmdldC5maWxlcyk7CiAgICB9KTsKICB9KTsKCiAgY29uc3QgY2FuY2VsID0gZG9jdW1lbnQuY3JlYXRlRWxlbWVudCgnYnV0dG9uJyk7CiAgaW5wdXRFbGVtZW50LnBhcmVudEVsZW1lbnQuYXBwZW5kQ2hpbGQoY2FuY2VsKTsKICBjYW5jZWwudGV4dENvbnRlbnQgPSAnQ2FuY2VsIHVwbG9hZCc7CiAgY29uc3QgY2FuY2VsUHJvbWlzZSA9IG5ldyBQcm9taXNlKChyZXNvbHZlKSA9PiB7CiAgICBjYW5jZWwub25jbGljayA9ICgpID0+IHsKICAgICAgcmVzb2x2ZShudWxsKTsKICAgIH07CiAgfSk7CgogIC8vIENhbmNlbCB1cGxvYWQgaWYgdXNlciBoYXNuJ3QgcGlja2VkIGFueXRoaW5nIGluIHRpbWVvdXQuCiAgY29uc3QgdGltZW91dFByb21pc2UgPSBuZXcgUHJvbWlzZSgocmVzb2x2ZSkgPT4gewogICAgc2V0VGltZW91dCgoKSA9PiB7CiAgICAgIHJlc29sdmUobnVsbCk7CiAgICB9LCBGSUxFX0NIQU5HRV9USU1FT1VUX01TKTsKICB9KTsKCiAgLy8gV2FpdCBmb3IgdGhlIHVzZXIgdG8gcGljayB0aGUgZmlsZXMuCiAgY29uc3QgZmlsZXMgPSB5aWVsZCB7CiAgICBwcm9taXNlOiBQcm9taXNlLnJhY2UoW3BpY2tlZFByb21pc2UsIHRpbWVvdXRQcm9taXNlLCBjYW5jZWxQcm9taXNlXSksCiAgICByZXNwb25zZTogewogICAgICBhY3Rpb246ICdzdGFydGluZycsCiAgICB9CiAgfTsKCiAgaWYgKCFmaWxlcykgewogICAgcmV0dXJuIHsKICAgICAgcmVzcG9uc2U6IHsKICAgICAgICBhY3Rpb246ICdjb21wbGV0ZScsCiAgICAgIH0KICAgIH07CiAgfQoKICBjYW5jZWwucmVtb3ZlKCk7CgogIC8vIERpc2FibGUgdGhlIGlucHV0IGVsZW1lbnQgc2luY2UgZnVydGhlciBwaWNrcyBhcmUgbm90IGFsbG93ZWQuCiAgaW5wdXRFbGVtZW50LmRpc2FibGVkID0gdHJ1ZTsKCiAgZm9yIChjb25zdCBmaWxlIG9mIGZpbGVzKSB7CiAgICBjb25zdCBsaSA9IGRvY3VtZW50LmNyZWF0ZUVsZW1lbnQoJ2xpJyk7CiAgICBsaS5hcHBlbmQoc3BhbihmaWxlLm5hbWUsIHtmb250V2VpZ2h0OiAnYm9sZCd9KSk7CiAgICBsaS5hcHBlbmQoc3BhbigKICAgICAgICBgKCR7ZmlsZS50eXBlIHx8ICduL2EnfSkgLSAke2ZpbGUuc2l6ZX0gYnl0ZXMsIGAgKwogICAgICAgIGBsYXN0IG1vZGlmaWVkOiAkewogICAgICAgICAgICBmaWxlLmxhc3RNb2RpZmllZERhdGUgPyBmaWxlLmxhc3RNb2RpZmllZERhdGUudG9Mb2NhbGVEYXRlU3RyaW5nKCkgOgogICAgICAgICAgICAgICAgICAgICAgICAgICAgICAgICAgICAnbi9hJ30gLSBgKSk7CiAgICBjb25zdCBwZXJjZW50ID0gc3BhbignMCUgZG9uZScpOwogICAgbGkuYXBwZW5kQ2hpbGQocGVyY2VudCk7CgogICAgb3V0cHV0RWxlbWVudC5hcHBlbmRDaGlsZChsaSk7CgogICAgY29uc3QgZmlsZURhdGFQcm9taXNlID0gbmV3IFByb21pc2UoKHJlc29sdmUpID0+IHsKICAgICAgY29uc3QgcmVhZGVyID0gbmV3IEZpbGVSZWFkZXIoKTsKICAgICAgcmVhZGVyLm9ubG9hZCA9IChlKSA9PiB7CiAgICAgICAgcmVzb2x2ZShlLnRhcmdldC5yZXN1bHQpOwogICAgICB9OwogICAgICByZWFkZXIucmVhZEFzQXJyYXlCdWZmZXIoZmlsZSk7CiAgICB9KTsKICAgIC8vIFdhaXQgZm9yIHRoZSBkYXRhIHRvIGJlIHJlYWR5LgogICAgbGV0IGZpbGVEYXRhID0geWllbGQgewogICAgICBwcm9taXNlOiBmaWxlRGF0YVByb21pc2UsCiAgICAgIHJlc3BvbnNlOiB7CiAgICAgICAgYWN0aW9uOiAnY29udGludWUnLAogICAgICB9CiAgICB9OwoKICAgIC8vIFVzZSBhIGNodW5rZWQgc2VuZGluZyB0byBhdm9pZCBtZXNzYWdlIHNpemUgbGltaXRzLiBTZWUgYi82MjExNTY2MC4KICAgIGxldCBwb3NpdGlvbiA9IDA7CiAgICB3aGlsZSAocG9zaXRpb24gPCBmaWxlRGF0YS5ieXRlTGVuZ3RoKSB7CiAgICAgIGNvbnN0IGxlbmd0aCA9IE1hdGgubWluKGZpbGVEYXRhLmJ5dGVMZW5ndGggLSBwb3NpdGlvbiwgTUFYX1BBWUxPQURfU0laRSk7CiAgICAgIGNvbnN0IGNodW5rID0gbmV3IFVpbnQ4QXJyYXkoZmlsZURhdGEsIHBvc2l0aW9uLCBsZW5ndGgpOwogICAgICBwb3NpdGlvbiArPSBsZW5ndGg7CgogICAgICBjb25zdCBiYXNlNjQgPSBidG9hKFN0cmluZy5mcm9tQ2hhckNvZGUuYXBwbHkobnVsbCwgY2h1bmspKTsKICAgICAgeWllbGQgewogICAgICAgIHJlc3BvbnNlOiB7CiAgICAgICAgICBhY3Rpb246ICdhcHBlbmQnLAogICAgICAgICAgZmlsZTogZmlsZS5uYW1lLAogICAgICAgICAgZGF0YTogYmFzZTY0LAogICAgICAgIH0sCiAgICAgIH07CiAgICAgIHBlcmNlbnQudGV4dENvbnRlbnQgPQogICAgICAgICAgYCR7TWF0aC5yb3VuZCgocG9zaXRpb24gLyBmaWxlRGF0YS5ieXRlTGVuZ3RoKSAqIDEwMCl9JSBkb25lYDsKICAgIH0KICB9CgogIC8vIEFsbCBkb25lLgogIHlpZWxkIHsKICAgIHJlc3BvbnNlOiB7CiAgICAgIGFjdGlvbjogJ2NvbXBsZXRlJywKICAgIH0KICB9Owp9CgpzY29wZS5nb29nbGUgPSBzY29wZS5nb29nbGUgfHwge307CnNjb3BlLmdvb2dsZS5jb2xhYiA9IHNjb3BlLmdvb2dsZS5jb2xhYiB8fCB7fTsKc2NvcGUuZ29vZ2xlLmNvbGFiLl9maWxlcyA9IHsKICBfdXBsb2FkRmlsZXMsCiAgX3VwbG9hZEZpbGVzQ29udGludWUsCn07Cn0pKHNlbGYpOwo=",
              "ok": true,
              "headers": [
                [
                  "content-type",
                  "application/javascript"
                ]
              ],
              "status": 200,
              "status_text": ""
            }
          },
          "base_uri": "https://localhost:8080/",
          "height": 75
        }
      },
      "cell_type": "code",
      "source": [
        "from google.colab import files\n",
        "realestateFile = files.upload()\n",
        "\n",
        "realestate = np.loadtxt(\"RealEstate.txt\", usecols=range(4))"
      ],
      "execution_count": 0,
      "outputs": [
        {
          "output_type": "display_data",
          "data": {
            "text/html": [
              "\n",
              "     <input type=\"file\" id=\"files-742e3c67-0582-4af9-81ac-ba7ba9ffaf03\" name=\"files[]\" multiple disabled />\n",
              "     <output id=\"result-742e3c67-0582-4af9-81ac-ba7ba9ffaf03\">\n",
              "      Upload widget is only available when the cell has been executed in the\n",
              "      current browser session. Please rerun this cell to enable.\n",
              "      </output>\n",
              "      <script src=\"/nbextensions/google.colab/files.js\"></script> "
            ],
            "text/plain": [
              "<IPython.core.display.HTML object>"
            ]
          },
          "metadata": {
            "tags": []
          }
        },
        {
          "output_type": "stream",
          "text": [
            "Saving RealEstate.txt to RealEstate (1).txt\n"
          ],
          "name": "stdout"
        }
      ]
    },
    {
      "metadata": {
        "id": "XuHK7-nX1lZL",
        "colab_type": "code",
        "outputId": "63d60575-aee8-4375-ed75-9df8beebdddd",
        "colab": {
          "base_uri": "https://localhost:8080/",
          "height": 377
        }
      },
      "cell_type": "code",
      "source": [
        "print(realestate)"
      ],
      "execution_count": 0,
      "outputs": [
        {
          "output_type": "stream",
          "text": [
            "[[ 68900.   5960.  44967.   1873.]\n",
            " [ 48500.   9000.  27860.    928.]\n",
            " [ 55500.   9500.  31439.   1126.]\n",
            " [ 62000.  10000.  39592.   1265.]\n",
            " [116500.  18000.  72827.   2214.]\n",
            " [ 45000.   8500.  27317.    912.]\n",
            " [ 38000.   8000.  29856.    899.]\n",
            " [ 83000.  23000.  47752.   1803.]\n",
            " [ 59000.   8100.  39117.   1204.]\n",
            " [ 47500.   9000.  29349.   1725.]\n",
            " [ 40500.   7300.  40166.   1080.]\n",
            " [ 40000.   8000.  31679.   1529.]\n",
            " [ 97000.  20000.  58510.   2455.]\n",
            " [ 45500.   8000.  23454.   1151.]\n",
            " [ 40900.   8000.  20897.   1173.]\n",
            " [ 80000.  10500.  56248.   1960.]\n",
            " [ 56000.   4000.  20859.   1344.]\n",
            " [ 37000.   4500.  22610.    988.]\n",
            " [ 50000.   3400.  35948.   1076.]\n",
            " [ 22400.   1500.   5779.    962.]]\n"
          ],
          "name": "stdout"
        }
      ]
    },
    {
      "metadata": {
        "id": "Xa3lretj24la",
        "colab_type": "text"
      },
      "cell_type": "markdown",
      "source": [
        "4. Calculate SVD"
      ]
    },
    {
      "metadata": {
        "id": "Wk9aGJkE13pP",
        "colab_type": "code",
        "outputId": "3f087732-8607-4324-f383-d99dd2acbedb",
        "colab": {
          "base_uri": "https://localhost:8080/",
          "height": 1907
        }
      },
      "cell_type": "code",
      "source": [
        "u, s, v = np.linalg.svd(realestate)\n",
        "print(\"U=\", u)\n",
        "print(\"S=\", s)\n",
        "print(\"v=\", v)"
      ],
      "execution_count": 0,
      "outputs": [
        {
          "output_type": "stream",
          "text": [
            "U= [[-2.54043074e-01  9.34806191e-02 -3.72662939e-01  1.87216219e-01\n",
            "  -2.46746921e-01 -6.17023245e-02 -1.03316681e-01  7.77356745e-02\n",
            "  -1.89253473e-01 -2.71794373e-01 -2.26946025e-01 -2.78470401e-01\n",
            "  -2.14205113e-01 -1.16090157e-01 -1.17338357e-01 -3.77103327e-01\n",
            "  -2.42555451e-01 -1.86312206e-01 -2.90430914e-01 -1.98536480e-01]\n",
            " [-1.74711334e-01 -9.95886971e-02  5.90176407e-02 -1.62719390e-01\n",
            "  -1.29566823e-01 -1.43302170e-01 -1.72281240e-01 -7.15341470e-01\n",
            "   7.41801870e-04 -1.09966304e-01 -1.08005843e-01 -1.21816746e-01\n",
            "  -3.86104596e-01 -9.01773561e-02 -1.23841990e-01  4.68410744e-02\n",
            "   2.60778256e-01  5.21991280e-02  2.18895169e-01  1.37468319e-01]\n",
            " [-1.98869752e-01 -1.26190756e-01  1.19400054e-02 -1.35991248e-01\n",
            "  -1.32612264e-01 -6.50389592e-02  1.99575989e-01 -1.54973980e-01\n",
            "   1.16826943e-02  1.34467403e-02  5.08073810e-01  2.65003199e-01\n",
            "  -1.01491763e-01 -1.96751328e-01 -1.66569475e-01  1.52806013e-01\n",
            "  -5.67220335e-01 -4.43680812e-02  9.04351487e-02 -2.82048346e-01]\n",
            " [-2.29156584e-01  2.78098002e-02 -1.95862214e-02 -1.55700252e-01\n",
            "  -5.24879594e-01 -1.29013648e-01 -5.87945685e-02 -1.11733700e-02\n",
            "  -2.38728224e-01  4.33941457e-01 -6.29742707e-02  3.68318047e-01\n",
            "   1.19417975e-01  6.93554717e-02  1.80636540e-01 -1.12629904e-01\n",
            "   1.09897904e-02  3.36907013e-02 -2.38234193e-01  3.45029530e-01]\n",
            " [-4.27697333e-01 -1.61408806e-03 -9.39640758e-02 -4.22070144e-01\n",
            "   7.18796641e-01 -7.16788688e-02 -4.90578879e-02  2.41427158e-03\n",
            "  -1.45756782e-01  1.02252295e-01 -7.57297988e-02  7.92456024e-02\n",
            "  -1.58335473e-02 -8.04478181e-03  3.66656636e-02 -1.40616143e-01\n",
            "  -6.77434569e-02 -3.55975034e-02 -1.67360355e-01  8.28672331e-02]\n",
            " [-1.64553385e-01 -3.88516303e-02  6.79180822e-02 -1.12464449e-01\n",
            "  -9.04548308e-02  9.65451414e-01 -2.75582200e-02 -7.05608929e-02\n",
            "  -4.04855686e-02  4.53180330e-03 -2.48368926e-02  3.30223655e-03\n",
            "  -5.11426445e-02 -1.90435942e-02 -1.11521317e-02 -3.79128206e-02\n",
            "  -1.11639251e-02 -1.05349917e-02 -2.58030571e-02  2.01499190e-02]\n",
            " [-1.50339362e-01  2.14261490e-01  1.27223710e-01 -2.10205738e-03\n",
            "  -3.44441130e-02 -1.92220547e-02  9.18461005e-01 -7.02481672e-02\n",
            "  -3.03696979e-02 -4.18700790e-02 -1.49893105e-01 -9.78919398e-02\n",
            "  -6.16692683e-02  1.43999132e-02  5.42430814e-03 -7.16019726e-02\n",
            "   1.28898723e-01 -4.05337415e-03 -2.46950194e-02  6.40657432e-02]\n",
            " [-3.02393940e-01 -2.07416756e-01  6.20986159e-01 -8.87852310e-02\n",
            "  -1.28573295e-01 -1.06465267e-01 -1.03732354e-01  5.36530024e-01\n",
            "  -2.33534674e-02 -1.07423212e-01 -4.76999916e-02 -8.98781586e-02\n",
            "  -2.87269087e-01 -9.39951494e-02 -1.12974647e-01 -5.30845057e-03\n",
            "   7.56955500e-02  3.39675218e-03  1.10681193e-01  3.09596989e-02]\n",
            " [-2.19798063e-01  8.72120494e-02 -1.12646414e-01 -1.53908820e-01\n",
            "  -1.15482462e-01 -2.12049160e-02 -3.00100129e-02  5.43583960e-02\n",
            "   9.28099715e-01  3.64451038e-02 -7.17837383e-02  9.66179165e-03\n",
            "   1.15175514e-02  9.69318107e-03  2.85473905e-02 -9.05005558e-02\n",
            "  -1.54022514e-02 -2.35666392e-02 -1.03116300e-01  3.82539076e-02]\n",
            " [-1.74588727e-01 -2.24136042e-02  7.42613388e-02  4.90747112e-01\n",
            "   1.50655683e-01  2.19572016e-02 -1.89471410e-02 -7.56484742e-02\n",
            "   6.14432311e-02  7.53596057e-01 -3.27911032e-02 -2.22270477e-01\n",
            "  -1.42495300e-01 -6.32494811e-02 -1.13802933e-01 -2.10027295e-02\n",
            "  -1.70881813e-02 -4.32828823e-02  7.05875120e-02 -1.62482745e-01]\n",
            " [-1.73259890e-01  5.43801040e-01  6.84180020e-02  7.74131729e-02\n",
            "   3.22621451e-03  4.15913654e-03 -1.36180730e-01  1.07891631e-02\n",
            "  -4.12746981e-02 -6.61494136e-02  6.96991854e-01 -1.92485194e-01\n",
            "  -3.14315959e-02  6.57820883e-02  4.75497636e-02 -1.39009595e-01\n",
            "   2.63274297e-01 -6.17808069e-03 -7.41398433e-02  1.19258777e-01]\n",
            " [-1.58514736e-01  2.36818102e-01  1.05332786e-01  4.62843048e-01\n",
            "   1.51902875e-01  2.73095213e-02 -7.24327592e-02 -5.58701730e-02\n",
            "   4.63275125e-02 -2.31705483e-01 -1.57184389e-01  7.30471824e-01\n",
            "  -1.22473521e-01 -1.65789571e-02 -6.94413479e-02 -6.23913023e-02\n",
            "   1.20158014e-01 -3.08502420e-02  4.16918483e-02 -7.76937825e-02]\n",
            " [-3.54849715e-01 -1.06525214e-01  2.60227987e-01  1.53775058e-01\n",
            "  -3.72304989e-02 -4.88547272e-02 -6.45864394e-02 -2.28750279e-01\n",
            "  -1.23096962e-02 -1.68695517e-01 -5.63494383e-02 -1.50684806e-01\n",
            "   7.92179265e-01 -8.10820670e-02 -1.07304606e-01 -5.49257505e-02\n",
            "  -7.04208276e-03 -3.70998007e-02  3.99736724e-02 -7.02106056e-02]\n",
            " [-1.59375098e-01 -1.90585985e-01  1.94956228e-02  7.56288040e-02\n",
            "  -1.77736084e-02 -1.69270652e-02  1.46355326e-02 -6.16101506e-02\n",
            "  -1.05504452e-03 -6.79785240e-02  5.58430116e-02 -2.32807514e-02\n",
            "  -7.42304400e-02  9.43797436e-01 -6.19730846e-02 -5.46513240e-03\n",
            "  -1.04167737e-01 -2.72534753e-02  1.44807911e-02 -8.56974247e-02]\n",
            " [-1.43317259e-01 -1.82476270e-01  7.24311086e-02  1.80985305e-01\n",
            "   2.86151449e-02 -1.03075896e-02  8.86389989e-03 -9.21112558e-02\n",
            "   2.17348657e-02 -1.15025408e-01  4.85658816e-02 -6.86623856e-02\n",
            "  -1.02396362e-01 -6.39487907e-02  9.17510707e-01  5.17094380e-03\n",
            "  -8.35842923e-02 -2.72490193e-02  4.63567852e-02 -1.07662397e-01]\n",
            " [-3.03051776e-01  2.39452446e-01 -1.79495943e-01  4.65622615e-02\n",
            "  -5.06412597e-02  2.21730256e-03 -5.42172496e-02  1.06445297e-01\n",
            "  -6.21729562e-02 -5.12406377e-02 -1.51215562e-01 -1.02132790e-01\n",
            "  -3.71083592e-03  1.55736572e-02  1.62887966e-02  8.61403901e-01\n",
            "   2.16458460e-02 -4.47935813e-02 -1.21620081e-01  1.62651124e-03]\n",
            " [-1.80632554e-01 -5.00599761e-01 -3.92154527e-01  3.56828059e-02\n",
            "  -4.53180559e-02  6.62081950e-03  1.38482437e-01  1.51633556e-01\n",
            "  -1.34539626e-02 -6.67508988e-03  2.54656503e-01  1.21561429e-01\n",
            "   3.61279046e-02 -8.65258236e-02 -6.43842511e-02  1.40919529e-02\n",
            "   6.09164143e-01 -6.31300815e-02 -5.43349370e-02 -2.15495838e-01]\n",
            " [-1.34485231e-01 -1.35240242e-02 -1.14289332e-01  9.20821649e-02\n",
            "   2.71562515e-03  6.80541214e-03  6.32812570e-03  5.17375572e-02\n",
            "  -1.02568703e-02 -4.95172887e-02 -5.08901787e-03 -3.97980571e-02\n",
            "  -1.08432296e-02 -1.72138302e-02 -2.04605938e-02 -3.96070731e-02\n",
            "  -6.11706849e-02  9.70801095e-01 -3.46454527e-02 -5.87708791e-02]\n",
            " [-1.89324690e-01  1.95588192e-01 -3.26932629e-01 -9.90193808e-02\n",
            "  -7.94478239e-02  1.21696832e-02 -1.02162764e-02  2.09420630e-01\n",
            "  -7.35342938e-02  4.96312345e-02 -8.78005132e-02  8.46279213e-03\n",
            "   9.15123154e-02  3.88870220e-02  6.14010026e-02 -1.14949040e-01\n",
            "  -3.24224674e-02 -3.40417733e-02  8.44677872e-01  2.40472706e-02]\n",
            " [-6.80719335e-02 -2.94872961e-01 -1.69072117e-01  3.58431346e-01\n",
            "   1.18739037e-01  3.35632429e-02  8.41637180e-02  5.42081396e-02\n",
            "   5.93706999e-02 -1.43479570e-01  1.50978095e-01 -5.30563919e-02\n",
            "  -3.88042660e-02 -7.58175981e-02 -9.81281274e-02  3.57770791e-02\n",
            "  -2.13853728e-01 -4.65558777e-02  4.50944212e-02  7.79930778e-01]]\n",
            "S= [324000.73490313  22949.61843169  14364.0527988    1248.74267306]\n",
            "v= [[-0.83871469 -0.13944733 -0.52604528 -0.01970969]\n",
            " [-0.51297221 -0.11973989  0.84996179 -0.00931792]\n",
            " [-0.18140512  0.98295893  0.02891809 -0.00690448]\n",
            " [-0.02256905  0.00292339 -0.00224923  0.99973848]]\n"
          ],
          "name": "stdout"
        }
      ]
    }
  ]
}